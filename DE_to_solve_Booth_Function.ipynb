{
  "nbformat": 4,
  "nbformat_minor": 0,
  "metadata": {
    "colab": {
      "name": "DE to solve Booth Function.ipynb",
      "provenance": [],
      "collapsed_sections": [],
      "authorship_tag": "ABX9TyMUIknJGK8j722FOdGJoaSF",
      "include_colab_link": true
    },
    "kernelspec": {
      "name": "python3",
      "display_name": "Python 3"
    }
  },
  "cells": [
    {
      "cell_type": "markdown",
      "metadata": {
        "id": "view-in-github",
        "colab_type": "text"
      },
      "source": [
        "<a href=\"https://colab.research.google.com/github/don-rukshan/DE-to-solve-Booth-Function/blob/master/DE_to_solve_Booth_Function.ipynb\" target=\"_parent\"><img src=\"https://colab.research.google.com/assets/colab-badge.svg\" alt=\"Open In Colab\"/></a>"
      ]
    },
    {
      "cell_type": "markdown",
      "metadata": {
        "id": "5DRGx8eE3DZY",
        "colab_type": "text"
      },
      "source": [
        "**Auto Stop with the optimal solution**"
      ]
    },
    {
      "cell_type": "code",
      "metadata": {
        "id": "odsShJad2gsL",
        "colab_type": "code",
        "colab": {
          "base_uri": "https://localhost:8080/",
          "height": 375
        },
        "outputId": "7e741eee-2c59-4c61-e7d3-743ef6177075"
      },
      "source": [
        "import numpy as np\n",
        "import matplotlib.pyplot as plt\n",
        "\n",
        "\n",
        "# Dimensions and boundaries\n",
        "bounds = [(-10, 10)] * 2\n",
        "dimensions = len( bounds )\n",
        "min_bounds, max_bounds = np.asarray( bounds ).T\n",
        "bounds_range = np.fabs( min_bounds - max_bounds )\n",
        "\n",
        "# Control parameters\n",
        "crossover_probability = 0.7\n",
        "population_size = 20\n",
        "donor_multiplier = 0.7\n",
        "\n",
        "# Populations\n",
        "population = np.random.rand( population_size, dimensions )  # Initial random population\n",
        "denormalized_population = min_bounds + population * bounds_range\n",
        "\n",
        "\n",
        "def de(fobj, its):\n",
        "    fitness = np.asarray( [fobj( ind ) for ind in denormalized_population] )\n",
        "    best_idx = np.argmin( fitness )\n",
        "    best = denormalized_population[best_idx]\n",
        "    for i in range( its ):\n",
        "        for j in range( population_size ):\n",
        "            mutant = mutate( population, population_size, j )\n",
        "            i_rand = np.random.rand( dimensions )\n",
        "            cross_points = i_rand < crossover_probability\n",
        "            if not np.any( cross_points ):\n",
        "                cross_points[np.random.randint( 0, dimensions )] = True\n",
        "            trial = np.where( cross_points, mutant, population[j] )\n",
        "            trial_denorm = min_bounds + trial * bounds_range\n",
        "            f = fobj( trial_denorm )\n",
        "            if f < fitness[j]:\n",
        "                fitness[j] = f\n",
        "                population[j] = trial\n",
        "                if f < fitness[best_idx]:\n",
        "                    best_idx = j\n",
        "                    best = trial_denorm\n",
        "        yield best, fitness[best_idx]\n",
        "\n",
        "\n",
        "def objective_function(x1, x2):\n",
        "    return pow( (x1 + 2 * x2 - 7), 2 ) + pow( (2 * x1 + x2 - 5), 2 )\n",
        "\n",
        "\n",
        "def mutate(pop, pop_size, current_index):\n",
        "    indexes = [idx for idx in range( pop_size ) if idx != current_index]\n",
        "    a, b, c = pop[np.random.choice( indexes, 3, replace=False )]\n",
        "    return np.clip( a + donor_multiplier * (b - c), 0, 1 )\n",
        "\n",
        "\n",
        "# Calculating optimal solution\n",
        "optimum = False\n",
        "iterations = 20\n",
        "while not optimum:\n",
        "    result = list( de( lambda x: objective_function( x[0], x[1] ), iterations ) )\n",
        "    x, f = zip( *result )\n",
        "    print(result[-1])\n",
        "    if result[-1][1] == 0:\n",
        "        optimum = True\n",
        "    else:\n",
        "        iterations += 20\n",
        "    plt.plot( f, label='iteration={}'.format( iterations ) )\n",
        "plt.grid()\n",
        "plt.rcParams[\"figure.figsize\"] = (750, 750)\n",
        "plt.legend()"
      ],
      "execution_count": 1,
      "outputs": [
        {
          "output_type": "stream",
          "text": [
            "(array([0.97129881, 3.01127265]), 0.00216584821257524)\n",
            "(array([0.99972017, 3.00025331]), 1.4528057494917607e-07)\n",
            "(array([1.00000003, 2.99999998]), 1.9542774599261188e-15)\n",
            "(array([1., 3.]), 1.1365907922424338e-26)\n",
            "(array([1., 3.]), 0.0)\n"
          ],
          "name": "stdout"
        },
        {
          "output_type": "execute_result",
          "data": {
            "text/plain": [
              "<matplotlib.legend.Legend at 0x7f80b665cef0>"
            ]
          },
          "metadata": {
            "tags": []
          },
          "execution_count": 1
        },
        {
          "output_type": "display_data",
          "data": {
            "image/png": "[encoded data removed]",
            "text/plain": [
              "<Figure size 432x288 with 1 Axes>"
            ]
          },
          "metadata": {
            "tags": [],
            "needs_background": "light"
          }
        }
      ]
    },
    {
      "cell_type": "markdown",
      "metadata": {
        "id": "n7IBVK-u3PoS",
        "colab_type": "text"
      },
      "source": [
        "**Manual Checking**"
      ]
    },
    {
      "cell_type": "code",
      "metadata": {
        "id": "txzJHJs03TX4",
        "colab_type": "code",
        "colab": {
          "base_uri": "https://localhost:8080/",
          "height": 485
        },
        "outputId": "dcae482d-1921-4b9f-e1fd-1a1538c563cf"
      },
      "source": [
        "import numpy as np\n",
        "import matplotlib.pyplot as plt\n",
        "\n",
        "\n",
        "def de(fobj, bounds, mut=0.8, crossp=0.7, popsize=20, its=1000):\n",
        "    dimensions = len( bounds )\n",
        "    pop = np.random.rand( popsize, dimensions )\n",
        "    min_b, max_b = np.asarray( bounds ).T\n",
        "    diff = np.fabs( min_b - max_b )\n",
        "    pop_denorm = min_b + pop * diff\n",
        "    fitness = np.asarray( [fobj( ind ) for ind in pop_denorm] )\n",
        "    best_idx = np.argmin( fitness )\n",
        "    best = pop_denorm[best_idx]\n",
        "    for i in range( its ):\n",
        "        for j in range( popsize ):\n",
        "            idxs = [idx for idx in range( popsize ) if idx != j]\n",
        "            a, b, c = pop[np.random.choice( idxs, 3, replace=False )]\n",
        "            mutant = np.clip( a + mut * (b - c), 0, 1 )\n",
        "            cross_points = np.random.rand( dimensions ) < crossp\n",
        "            if not np.any( cross_points ):\n",
        "                cross_points[np.random.randint( 0, dimensions )] = True\n",
        "            trial = np.where( cross_points, mutant, pop[j] )\n",
        "            trial_denorm = min_b + trial * diff\n",
        "            f = fobj( trial_denorm )\n",
        "            if f < fitness[j]:\n",
        "                fitness[j] = f\n",
        "                pop[j] = trial\n",
        "                if f < fitness[best_idx]:\n",
        "                    best_idx = j\n",
        "                    best = trial_denorm\n",
        "        yield best, fitness[best_idx]\n",
        "\n",
        "\n",
        "def f_obj(x1, x2):\n",
        "    return pow( (x1 + 2 * x2 - 7), 2 ) + pow( (2 * x1 + x2 - 5), 2 )\n",
        "\n",
        "\n",
        "for d in range( 30, 250, 20 ):\n",
        "    result = list( de( lambda x: f_obj( x[0], x[1] ), bounds=[(-10, 10)] * 2, its=d ) )\n",
        "    x, f = zip( *result )\n",
        "    plt.plot( f, label='iteration={}'.format( d ) )\n",
        "\n",
        "    print(result[-1])\n",
        "plt.grid()\n",
        "plt.rcParams[\"figure.figsize\"] = (750, 750)\n",
        "plt.legend()"
      ],
      "execution_count": 1,
      "outputs": [
        {
          "output_type": "stream",
          "text": [
            "(array([0.95388423, 3.02623318]), 0.004396113851650085)\n",
            "(array([0.99908238, 3.00012905]), 3.3460495769480616e-06)\n",
            "(array([1.00002093, 2.9999564 ]), 4.3938700822717066e-09)\n",
            "(array([1.00000246, 2.99999336]), 1.2023340924545983e-10)\n",
            "(array([1.00000035, 2.99999961]), 2.844034227115767e-13)\n",
            "(array([1., 3.]), 7.599191752763452e-18)\n",
            "(array([1., 3.]), 2.369530508132133e-17)\n",
            "(array([1., 3.]), 4.917839410068993e-22)\n",
            "(array([1., 3.]), 1.2315522902911288e-23)\n",
            "(array([1., 3.]), 1.2549199280255856e-25)\n",
            "(array([1., 3.]), 0.0)\n"
          ],
          "name": "stdout"
        },
        {
          "output_type": "execute_result",
          "data": {
            "text/plain": [
              "<matplotlib.legend.Legend at 0x7f65ffbee0b8>"
            ]
          },
          "metadata": {
            "tags": []
          },
          "execution_count": 1
        },
        {
          "output_type": "display_data",
          "data": {
            "image/png": "[encoded data removed]",
            "text/plain": [
              "<Figure size 432x288 with 1 Axes>"
            ]
          },
          "metadata": {
            "tags": [],
            "needs_background": "light"
          }
        }
      ]
    },
    {
      "cell_type": "markdown",
      "metadata": {
        "id": "b2An_dhs_z5T",
        "colab_type": "text"
      },
      "source": [
        "***Not Working properly***"
      ]
    },
    {
      "cell_type": "code",
      "metadata": {
        "id": "KAiH8U339x_R",
        "colab_type": "code",
        "colab": {
          "base_uri": "https://localhost:8080/",
          "height": 504
        },
        "outputId": "58715ddb-83d7-4765-da2f-50b25e18796d"
      },
      "source": [
        "import numpy as np\n",
        "import matplotlib.pyplot as plt\n",
        "\n",
        "\n",
        "def de(fobj, bounds, mut=0.8, crossp=0.7, popsize=20, its=1000):\n",
        "    dimensions = len(bounds)\n",
        "    pop = np.random.rand(popsize, dimensions)\n",
        "    min_b, max_b = np.asarray(bounds).T\n",
        "    diff = np.fabs(min_b - max_b)\n",
        "    pop_denorm = min_b + pop * diff\n",
        "    fitness = np.asarray([fobj(ind) for ind in pop_denorm])\n",
        "    best_idx = np.argmin(fitness)\n",
        "    best = pop_denorm[best_idx]\n",
        "    for i in range(its):\n",
        "        for j in range(popsize):\n",
        "            idxs = [idx for idx in range(popsize) if idx != j]\n",
        "            a, b, c = pop[np.random.choice(idxs, 3, replace=False)]\n",
        "            mutant = np.clip(a + mut * (b - c), 0, 1)\n",
        "            cross_points = np.random.rand(dimensions) < crossp\n",
        "            if not np.any(cross_points):\n",
        "                cross_points[np.random.randint(0, dimensions)] = True\n",
        "            trial = np.where(cross_points, mutant, pop[j])\n",
        "            trial_denorm = min_b + trial * diff\n",
        "            f = fobj(trial_denorm)\n",
        "            if f < fitness[j]:\n",
        "                fitness[j] = f\n",
        "                pop[j] = trial\n",
        "                if f < fitness[best_idx]:\n",
        "                    best_idx = j\n",
        "                    best = trial_denorm\n",
        "        yield best, fitness[best_idx]\n",
        "\n",
        "\n",
        "def fobj(x1, x2):\n",
        "    value = (x1 + 2 * x2 - 7) * 2 + (2 * x1 + x2 - 5) * 2\n",
        "    # x1 = np.linspace(-10, 10, 30)\n",
        "    # x2 = np.linspace(-10, 10, 30)\n",
        "\n",
        "    # X, Y = np.meshgrid(x1, x2)\n",
        "    # Z = z_function(X, Y)\n",
        "    # ax = plt.axes(projection='3d')\n",
        "    # ax.plot_surface(X, Y, Z, rstride=1, cstride=1,\n",
        "    #             cmap='winter', edgecolor='none')\n",
        "    return value\n",
        "\n",
        "for d in range(30, 270, 20):\n",
        "   result = list(de(lambda x: fobj(x[0], x[1]), bounds=[(-10, 10)]*2 , its=d))\n",
        "   x, f = zip(*result)\n",
        "   plt.plot(f, label='iteration={}'.format(d))\n",
        "   \n",
        "   print(result[-1])\n",
        "plt.grid() \n",
        "plt.rcParams[\"figure.figsize\"] = (750,750) \n",
        "plt.legend()"
      ],
      "execution_count": 1,
      "outputs": [
        {
          "output_type": "stream",
          "text": [
            "(array([-10., -10.]), -144.0)\n",
            "(array([-10., -10.]), -144.0)\n",
            "(array([-10., -10.]), -144.0)\n",
            "(array([-10., -10.]), -144.0)\n",
            "(array([-10., -10.]), -144.0)\n",
            "(array([-10., -10.]), -144.0)\n",
            "(array([-10., -10.]), -144.0)\n",
            "(array([-10., -10.]), -144.0)\n",
            "(array([-10., -10.]), -144.0)\n",
            "(array([-10., -10.]), -144.0)\n",
            "(array([-10., -10.]), -144.0)\n",
            "(array([-10., -10.]), -144.0)\n"
          ],
          "name": "stdout"
        },
        {
          "output_type": "execute_result",
          "data": {
            "text/plain": [
              "<matplotlib.legend.Legend at 0x7fbe19c6b518>"
            ]
          },
          "metadata": {
            "tags": []
          },
          "execution_count": 1
        },
        {
          "output_type": "display_data",
          "data": {
            "image/png": "[encoded data removed]",
            "text/plain": [
              "<Figure size 432x288 with 1 Axes>"
            ]
          },
          "metadata": {
            "tags": [],
            "needs_background": "light"
          }
        }
      ]
    }
  ]
}